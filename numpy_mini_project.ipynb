{
  "nbformat": 4,
  "nbformat_minor": 0,
  "metadata": {
    "colab": {
      "provenance": []
    },
    "kernelspec": {
      "name": "python3",
      "display_name": "Python 3"
    },
    "language_info": {
      "name": "python"
    }
  },
  "cells": [
    {
      "cell_type": "code",
      "execution_count": 1,
      "metadata": {
        "colab": {
          "base_uri": "https://localhost:8080/"
        },
        "id": "aLKoRJ8-Bouv",
        "outputId": "0fe8a493-85a2-498b-81f8-6ee7ff28bc74"
      },
      "outputs": [
        {
          "output_type": "stream",
          "name": "stdout",
          "text": [
            "Employee Data (Age, Salary, Score):\n",
            " [[   27 60609    89]\n",
            " [   33 47751    74]\n",
            " [   34 71228    64]\n",
            " [   30 76230    83]\n",
            " [   31 72025    83]\n",
            " [   33 61758    90]\n",
            " [   27 75730    92]\n",
            " [   37 48444    82]\n",
            " [   22 59946    73]\n",
            " [   38 77532    69]]\n"
          ]
        }
      ],
      "source": [
        "import numpy as np\n",
        "# for reproducibility\n",
        "np.random.seed(1)\n",
        "\n",
        "# Generate random data\n",
        "ages = np.random.randint(22,40, size = 10)\n",
        "salaries = np.random.randint(40000, 80000, size = 10)\n",
        "scores = np.random.randint(60, 100, size = 10)\n",
        "\n",
        "# combine into a 2d array\n",
        "data = np.column_stack((ages, salaries, scores))\n",
        "print(\"Employee Data (Age, Salary, Score):\\n\", data)\n"
      ]
    },
    {
      "cell_type": "code",
      "source": [
        "print(\"Avg salary:\", np.average(data[:,1]))\n",
        "print(\"Avg age:\", np.average(data[:,0]))\n",
        "print(\"Avg score:\", np.average(data[:,2]))\n",
        "print(\"Maximum salary:\", np.max(data[:,1]))\n",
        "print(\"Minimum salary:\", np.min(data[:,1]))\n",
        "print(\"Std of scores:\", np.std(data[:,2]))"
      ],
      "metadata": {
        "colab": {
          "base_uri": "https://localhost:8080/"
        },
        "id": "JnVDgJFzDWyn",
        "outputId": "04a6acc0-7671-4685-9cd5-65c49d13826d"
      },
      "execution_count": null,
      "outputs": [
        {
          "output_type": "stream",
          "name": "stdout",
          "text": [
            "Avg salary: 65125.3\n",
            "Avg age: 31.2\n",
            "Avg score: 79.9\n",
            "Maximum salary: 77532\n",
            "Minimum salary: 47751\n",
            "Std of scores: 8.99388681271896\n"
          ]
        }
      ]
    },
    {
      "cell_type": "code",
      "source": [
        "high_performers = data[(data[:,1] > 60000) & (data[:,2] > 80)]\n",
        "print(\"High Performers:\\n\", high_performers)\n"
      ],
      "metadata": {
        "colab": {
          "base_uri": "https://localhost:8080/"
        },
        "id": "1fIcEcXzCXDt",
        "outputId": "1c3ceca8-8cc7-4374-b8fb-9d1edc709be2"
      },
      "execution_count": 7,
      "outputs": [
        {
          "output_type": "stream",
          "name": "stdout",
          "text": [
            "High Performers:\n",
            " [[   27 60609    89]\n",
            " [   30 76230    83]\n",
            " [   31 72025    83]\n",
            " [   33 61758    90]\n",
            " [   27 75730    92]]\n"
          ]
        }
      ]
    },
    {
      "cell_type": "code",
      "source": [
        "top_salaries_indices = np.argsort(data[:,1])[-3:]  # indices of top 3 salaries\n",
        "top_salaries = data[top_salaries_indices]\n",
        "print(\"Top 3 Salaries:\\n\", top_salaries)\n"
      ],
      "metadata": {
        "colab": {
          "base_uri": "https://localhost:8080/"
        },
        "id": "PueJuacBEZde",
        "outputId": "698f9616-7ea8-499b-85d1-f14f75b11709"
      },
      "execution_count": 11,
      "outputs": [
        {
          "output_type": "stream",
          "name": "stdout",
          "text": [
            "Top 3 Salaries:\n",
            " [[   27 75730    92]\n",
            " [   30 76230    83]\n",
            " [   38 77532    69]]\n"
          ]
        }
      ]
    },
    {
      "cell_type": "code",
      "source": [
        "new_employee = np.array([[28, 50000, 82]])\n",
        "data = np.vstack((data, new_employee))\n",
        "print(\"Data after adding new employee:\\n\", data)"
      ],
      "metadata": {
        "colab": {
          "base_uri": "https://localhost:8080/"
        },
        "id": "sw1TkMIbFEsW",
        "outputId": "adb72cec-a41e-4f70-91bf-2d25bf1f3e74"
      },
      "execution_count": 17,
      "outputs": [
        {
          "output_type": "stream",
          "name": "stdout",
          "text": [
            "Data after adding new employee:\n",
            " [[   27 60609    89]\n",
            " [   33 47751    74]\n",
            " [   34 71228    64]\n",
            " [   30 76230    83]\n",
            " [   31 72025    83]\n",
            " [   33 61758    90]\n",
            " [   27 75730    92]\n",
            " [   37 48444    82]\n",
            " [   22 59946    73]\n",
            " [   38 77532    69]\n",
            " [   28 50000    82]\n",
            " [   28 50000    82]\n",
            " [   28 50000    82]]\n"
          ]
        }
      ]
    },
    {
      "cell_type": "code",
      "source": [
        "# Average salary for employees under 30\n",
        "under_30 = data[data[:,0]<30]\n",
        "avg_salary_under_30 = np.mean(under_30[:,1])\n",
        "print(\"Average salary for employees under 30:\",avg_salary_under_30)"
      ],
      "metadata": {
        "colab": {
          "base_uri": "https://localhost:8080/"
        },
        "id": "bJzQ76j3F7oo",
        "outputId": "60ef36fd-7d01-4074-ce9a-964091399923"
      },
      "execution_count": 20,
      "outputs": [
        {
          "output_type": "stream",
          "name": "stdout",
          "text": [
            "Average salary for employees under 30: 57714.166666666664\n"
          ]
        }
      ]
    },
    {
      "cell_type": "code",
      "source": [
        "# Highest score employee:\n",
        "best_score_employee = data[np.argmax(data[:,2])]\n",
        "print(\"Highest score employee is\", best_score_employee)"
      ],
      "metadata": {
        "colab": {
          "base_uri": "https://localhost:8080/"
        },
        "id": "G3yy3McpHuVt",
        "outputId": "e7630be9-f477-4dff-8c29-9e56767b1b69"
      },
      "execution_count": 22,
      "outputs": [
        {
          "output_type": "stream",
          "name": "stdout",
          "text": [
            "Highest score employee is [   27 75730    92]\n"
          ]
        }
      ]
    },
    {
      "cell_type": "code",
      "source": [
        "# Employees aged between 25-30 with salary > 50000:\n",
        "subset = data[(data[:,0]>=25)&(data[:,0]<=30)&(data[:,1]>50000)]\n",
        "print(\"Employees aged 25-30 with salary > 50k:\\n\", subset)"
      ],
      "metadata": {
        "colab": {
          "base_uri": "https://localhost:8080/"
        },
        "id": "IK5GD4IGIb0E",
        "outputId": "6e38aa0a-d5ce-43fa-a892-948bb0ab0b82"
      },
      "execution_count": 25,
      "outputs": [
        {
          "output_type": "stream",
          "name": "stdout",
          "text": [
            "Employees aged 25-30 with salary > 50k:\n",
            " [[   27 60609    89]\n",
            " [   30 76230    83]\n",
            " [   27 75730    92]]\n"
          ]
        }
      ]
    },
    {
      "cell_type": "code",
      "source": [],
      "metadata": {
        "id": "97xX1THMK_BA"
      },
      "execution_count": null,
      "outputs": []
    }
  ]
}